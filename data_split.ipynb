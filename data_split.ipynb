{
 "cells": [
  {
   "cell_type": "code",
   "execution_count": 22,
   "metadata": {},
   "outputs": [],
   "source": [
    "import pandas as pd\n",
    "import numpy as np\n",
    "import random\n",
    "\n",
    "np.random.seed(0)\n",
    "random.seed(0)"
   ]
  },
  {
   "cell_type": "markdown",
   "metadata": {},
   "source": [
    "steam"
   ]
  },
  {
   "cell_type": "code",
   "execution_count": 23,
   "metadata": {},
   "outputs": [],
   "source": [
    "steam_df = pd.read_csv('data/steam.txt', sep = '\\t', header = None, names = ['label', 'text'])\n",
    "steam_test_df = steam_df.groupby('label').sample(n = 1000).copy()\n",
    "steam_df.drop(steam_test_df.index, inplace = True)\n",
    "\n",
    "steam_test_df.to_csv('steam_test.csv', index = False, encoding = 'utf-8')\n",
    "steam_df.to_csv('steam_train.csv', index = False, encoding = 'utf-8')"
   ]
  },
  {
   "cell_type": "markdown",
   "metadata": {},
   "source": [
    "nsmc"
   ]
  },
  {
   "cell_type": "code",
   "execution_count": 53,
   "metadata": {},
   "outputs": [],
   "source": [
    "nsmc_df = pd.read_csv('data/nsmc_train.txt', sep = '\\t')\n",
    "nsmc_df.drop('id', axis = 1, inplace = True)\n",
    "nsmc_df.columns = ['text', 'label']\n",
    "nsmc_test_df = nsmc_df.groupby('label').sample(n = 1000).copy()\n",
    "nsmc_df.drop(nsmc_test_df.index, inplace = True)\n",
    "\n",
    "nsmc_test_df.to_csv('nsmc_test.csv', index = False, encoding = 'utf-8')\n",
    "nsmc_df.to_csv('nsmc_train.csv', index = False, encoding = 'utf-8')"
   ]
  },
  {
   "cell_type": "markdown",
   "metadata": {},
   "source": [
    "naver shopping"
   ]
  },
  {
   "cell_type": "code",
   "execution_count": 45,
   "metadata": {},
   "outputs": [],
   "source": [
    "# 1: positive, 0: negative\n",
    "label_dict = {\n",
    "    5 : 1,\n",
    "    4 : 1,\n",
    "    2 : 0,\n",
    "    1 : 0,\n",
    "}\n",
    "\n",
    "naver_df = pd.read_csv('./data/naver_shopping.txt', sep = '\\t', header = None, names = ['label', 'text'])\n",
    "naver_df['label'] = naver_df['label'].apply(lambda x: label_dict[x])\n",
    "naver_test_df = naver_df.groupby('label').sample(n = 1000).copy()\n",
    "naver_df.drop(naver_test_df.index, inplace = True)\n",
    "\n",
    "naver_test_df.to_csv('naver_test.csv', index = False, encoding = 'utf-8')\n",
    "naver_df.to_csv('naver_train.csv', index = False, encoding = 'utf-8')"
   ]
  },
  {
   "cell_type": "markdown",
   "metadata": {},
   "source": [
    "csv to tsv"
   ]
  },
  {
   "cell_type": "code",
   "execution_count": 3,
   "metadata": {},
   "outputs": [],
   "source": [
    "import pandas as pd"
   ]
  },
  {
   "cell_type": "code",
   "execution_count": 12,
   "metadata": {},
   "outputs": [],
   "source": [
    "naver_train_df = pd.read_csv('./data/ori/naver_train.csv')\n",
    "naver_test_df = pd.read_csv('./data/ori/naver_test.csv')\n",
    "nsmc_train_df = pd.read_csv('./data/ori/nsmc_train.csv')\n",
    "nsmc_test_df = pd.read_csv('./data/ori/nsmc_test.csv')\n",
    "steam_train_df = pd.read_csv('./data/ori/steam_train.csv')\n",
    "steam_test_df = pd.read_csv('./data/ori/steam_test.csv')\n",
    "\n",
    "sample_size = 70000\n",
    "\n",
    "naver_train_df = naver_train_df.groupby('label').sample(n = int(sample_size/2)).copy()\n",
    "nsmc_train_df = nsmc_train_df.groupby('label').sample(n = int(sample_size/2)).copy()\n",
    "steam_train_df = steam_train_df.groupby('label').sample(n = int(sample_size/2)).copy()\n",
    "\n",
    "naver_train_df = naver_train_df[['text', 'label']]\n",
    "naver_test_df = naver_test_df[['text', 'label']]\n",
    "nsmc_train_df = nsmc_train_df[['text', 'label']]\n",
    "nsmc_test_df = nsmc_test_df[['text', 'label']]\n",
    "steam_train_df = steam_train_df[['text', 'label']]\n",
    "steam_test_df = steam_test_df[['text', 'label']]\n",
    "\n",
    "# data_dict\n",
    "data_dict = {\n",
    "    'naver_train' : naver_train_df,\n",
    "    'naver_test' : naver_test_df,\n",
    "    'nsmc_train' : nsmc_train_df,\n",
    "    'nsmc_test' : nsmc_test_df,\n",
    "    'steam_train' : steam_train_df,\n",
    "    'steam_test' : steam_test_df,\n",
    "}\n",
    "\n",
    "def convert2TSV(df, filename, sample_size):\n",
    "    df.to_csv(f'./data/{sample_size}/{filename}.tsv', sep = '\\t', index = False)\n",
    "    \n",
    "for key, value in data_dict.items():\n",
    "    convert2TSV(value, key, sample_size)"
   ]
  },
  {
   "cell_type": "code",
   "execution_count": null,
   "metadata": {},
   "outputs": [],
   "source": []
  }
 ],
 "metadata": {
  "kernelspec": {
   "display_name": "nlp_kc_project",
   "language": "python",
   "name": "python3"
  },
  "language_info": {
   "codemirror_mode": {
    "name": "ipython",
    "version": 3
   },
   "file_extension": ".py",
   "mimetype": "text/x-python",
   "name": "python",
   "nbconvert_exporter": "python",
   "pygments_lexer": "ipython3",
   "version": "3.9.0"
  }
 },
 "nbformat": 4,
 "nbformat_minor": 2
}
